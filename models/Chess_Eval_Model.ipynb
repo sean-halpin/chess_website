{
  "nbformat": 4,
  "nbformat_minor": 0,
  "metadata": {
    "colab": {
      "provenance": [],
      "machine_shape": "hm",
      "gpuType": "T4",
      "authorship_tag": "ABX9TyM6V9+AI5KBR+X1+49bzqCF",
      "include_colab_link": true
    },
    "kernelspec": {
      "name": "python3",
      "display_name": "Python 3"
    },
    "language_info": {
      "name": "python"
    },
    "accelerator": "GPU"
  },
  "cells": [
    {
      "cell_type": "markdown",
      "metadata": {
        "id": "view-in-github",
        "colab_type": "text"
      },
      "source": [
        "<a href=\"https://colab.research.google.com/github/sean-halpin/chess_website/blob/models_init/models/Chess_Eval_Model.ipynb\" target=\"_parent\"><img src=\"https://colab.research.google.com/assets/colab-badge.svg\" alt=\"Open In Colab\"/></a>"
      ]
    },
    {
      "cell_type": "markdown",
      "source": [
        "# Data Download"
      ],
      "metadata": {
        "id": "hTFq1MwHWf6K"
      }
    },
    {
      "cell_type": "code",
      "execution_count": null,
      "metadata": {
        "id": "VvogKC3XA7T4"
      },
      "outputs": [],
      "source": [
        "# https://database.lichess.org/standard/lichess_db_standard_rated_2013-01.pgn.zst"
      ]
    },
    {
      "cell_type": "code",
      "source": [
        "!pip install zstandard"
      ],
      "metadata": {
        "id": "LYETsEpfCLfd"
      },
      "execution_count": null,
      "outputs": []
    },
    {
      "cell_type": "code",
      "source": [
        "import requests\n",
        "import zstandard\n",
        "import io\n",
        "\n",
        "lichess = \"https://database.lichess.org/standard/\"\n",
        "dbfile = \"lichess_db_standard_rated_2017-01.pgn.zst\"\n",
        "url = lichess + dbfile\n",
        "compressed_file_path = dbfile\n",
        "output_path = dbfile.replace(\".zst\",\"\")\n",
        "\n",
        "# Download the Zstandard compressed file\n",
        "response = requests.get(url)\n",
        "if response.status_code == 200:\n",
        "    with open(compressed_file_path, 'wb') as file:\n",
        "        file.write(response.content)\n",
        "    print(f\"File downloaded successfully to {compressed_file_path}\")\n",
        "else:\n",
        "    print(f\"Failed to download the file. Status code: {response.status_code}\")\n",
        "\n",
        "# Extract the Zstandard compressed file\n",
        "with open(compressed_file_path, 'rb') as compressed_file:\n",
        "    dctx = zstandard.ZstdDecompressor()\n",
        "    with dctx.stream_reader(compressed_file) as reader:\n",
        "        with open(output_path, 'wb') as output:\n",
        "            output.write(reader.read())\n",
        "\n",
        "print(f\"File extracted successfully to {output_path}\")\n"
      ],
      "metadata": {
        "id": "B_Y4qv31BfS2"
      },
      "execution_count": null,
      "outputs": []
    },
    {
      "cell_type": "markdown",
      "source": [
        "# Data Exploration"
      ],
      "metadata": {
        "id": "vr9pxKdZWj8v"
      }
    },
    {
      "cell_type": "code",
      "source": [
        "!ls"
      ],
      "metadata": {
        "id": "HLhP9pzlImBH"
      },
      "execution_count": null,
      "outputs": []
    },
    {
      "cell_type": "code",
      "source": [
        "!cat lichess_db_standard_rated_2017-01.pgn | grep '\\[%eval' | wc -l"
      ],
      "metadata": {
        "id": "K1SnnDHKNWW4"
      },
      "execution_count": null,
      "outputs": []
    },
    {
      "cell_type": "code",
      "source": [
        "!cat lichess_db_standard_rated_2017-01.pgn | grep '\\[%eval' | head -n5"
      ],
      "metadata": {
        "id": "CDKgYa9xN_tu"
      },
      "execution_count": null,
      "outputs": []
    },
    {
      "cell_type": "code",
      "source": [
        "!cat lichess_db_standard_rated_2017-01.pgn | grep '\\[%eval' > lichess.pgn.eval"
      ],
      "metadata": {
        "id": "5SwSqbO3gmsD"
      },
      "execution_count": null,
      "outputs": []
    },
    {
      "cell_type": "code",
      "source": [
        "!pip install python-chess"
      ],
      "metadata": {
        "id": "Uc2h5f1uQIqS"
      },
      "execution_count": null,
      "outputs": []
    },
    {
      "cell_type": "markdown",
      "source": [
        "# Data Visualisation"
      ],
      "metadata": {
        "id": "t2LBR0kkWoNM"
      }
    },
    {
      "cell_type": "code",
      "source": [
        "import chess.pgn\n",
        "import re\n",
        "\n",
        "pgn_text = \"\"\"\n",
        "1. e4 { [%eval 0.2] [%eval 0.2] } 1... e6 { [%eval 0.13] } 2. Bc4 { [%eval -0.31] } 2... d5 { [%eval -0.28] } 3. exd5 { [%eval -0.37] } 3... exd5 { [%eval -0.31] } 4. Bb3 { [%eval -0.33] } 4... Nf6 { [%eval -0.35] } 5. d4 { [%eval -0.34] } 5... Be7 { [%eval 0.0] } 6. Nf3 { [%eval 0.0] } 6... O-O { [%eval -0.08] } 7. Bg5 { [%eval -0.19] } 7... h6 { [%eval -0.29] } 8. Bxf6 { [%eval -0.36] } 8... Bxf6 { [%eval -0.37] } 9. O-O { [%eval -0.36] } 9... c6 { [%eval -0.12] } 10. Re1 { [%eval -0.17] } 10... Bf5 { [%eval -0.04] } 11. c4?! { [%eval -0.67] } 11... dxc4 { [%eval -0.5] } 12. Bxc4 { [%eval -0.77] } 12... Nd7?! { [%eval -0.1] } 13. Nc3 { [%eval 0.0] } 13... Nb6 { [%eval 0.0] } 14. b3?! { [%eval -0.76] } 14... Nxc4 { [%eval -0.49] } 15. bxc4 { [%eval -0.65] } 15... Qa5 { [%eval -0.55] } 16. Rc1 { [%eval -0.79] } 16... Rad8 { [%eval -0.78] } 17. d5?? { [%eval -5.41] } 17... Bxc3 { [%eval -5.42] } 18. Re5? { [%eval -7.61] } 18... Bxe5 { [%eval -7.78] } 19. Nxe5 { [%eval -7.72] } 19... cxd5 { [%eval -7.81] } 20. Qe1? { [%eval -9.29] } 20... Be6?? { [%eval 3.71] } 21. Rd1?? { [%eval -12.34] } 21... dxc4 { [%eval -12.71] } 22. Rxd8?! { [%eval #-1] } 22... Rxd8?! { [%eval -13.06] } 23. Qc3?! { [%eval #-2] } 23... Qxc3?! { [%eval #-4] } 24. g3 { [%eval #-3] } 24... Rd1+?! { [%eval #-4] } 25. Kg2 { [%eval #-4] } 25... Qe1?! { [%eval #-4] } 26. Kf3 { [%eval #-3] } 26... Qxe5 { [%eval #-2] } 27. Kg2 { [%eval #-2] } 27... Bd5+?! { [%eval #-2] } 28. Kh3 { [%eval #-1] } 28... Qh5# 0-1\n",
        "\"\"\"\n",
        "\n",
        "game = chess.pgn.read_game(io.StringIO(pgn_text))\n",
        "\n",
        "board = game.board()\n",
        "for node in list(game.mainline()):\n",
        "    print()\n",
        "    print(node.move)\n",
        "    # print(node)\n",
        "    print(node.comment)\n",
        "    pattern = r\"\\[%eval\\s+([#])*([\\d.-]+)\\]\"\n",
        "    match = re.search(pattern, node.comment)\n",
        "    if match:\n",
        "        print((match.group(1) if match.group(1) is not None else \"\"), match.group(2))\n",
        "    else:\n",
        "        print(\"No '%eval' found in the text.\")\n",
        "    board.push(node.move)\n",
        "    print(board)\n",
        "    checkMate = board.is_checkmate()\n",
        "    print(\"Checkmate?\", checkMate)\n",
        "    i=0\n",
        "    for square in chess.SQUARES:\n",
        "      piece = board.piece_at(square)\n",
        "      print(f\"Square {chess.square_name(square)}: {piece}: {(board.piece_at(square).piece_type * (1 if board.piece_at(square).color else -1)) if piece is not None else 0}\")\n"
      ],
      "metadata": {
        "id": "r_jjKQ0LQqhW"
      },
      "execution_count": null,
      "outputs": []
    },
    {
      "cell_type": "code",
      "source": [
        "abs(float('-2.0'))"
      ],
      "metadata": {
        "id": "I62O5wvkjpJG"
      },
      "execution_count": null,
      "outputs": []
    },
    {
      "cell_type": "code",
      "source": [
        "bound = 10"
      ],
      "metadata": {
        "id": "jtabtoTDTWS1"
      },
      "execution_count": null,
      "outputs": []
    },
    {
      "cell_type": "code",
      "source": [
        "def bound_value(value):\n",
        "    return min(max(value, -bound), bound)"
      ],
      "metadata": {
        "id": "vDuzE6k0SnC5"
      },
      "execution_count": null,
      "outputs": []
    },
    {
      "cell_type": "markdown",
      "source": [
        "# Data Preparation"
      ],
      "metadata": {
        "id": "jZFzekgjWjS-"
      }
    },
    {
      "cell_type": "code",
      "source": [
        "import pandas as pd\n",
        "rows_data = []\n",
        "columns = []\n",
        "for square in chess.SQUARES:\n",
        "  piece = board.piece_at(square)\n",
        "  columns.append(chess.square_name(square))\n",
        "columns.append(\"eval\")\n",
        "\n",
        "i=0\n",
        "with open('lichess.pgn.eval', 'r') as file:\n",
        "    for pgn_text in file:\n",
        "      # print(pgn_text)\n",
        "      game = chess.pgn.read_game(io.StringIO(pgn_text))\n",
        "      board = game.board()\n",
        "      for node in list(game.mainline()):\n",
        "          row_data = [(((board.piece_at(square).piece_type * (1 if board.piece_at(square).color else -1))) if board.piece_at(square) is not None else 0) for square in chess.SQUARES]\n",
        "          pattern = r\"\\[%eval\\s+([#])*([\\d.-]+)\\]\"\n",
        "          match = re.search(pattern, node.comment)\n",
        "          if match:\n",
        "            if match.group(1) is None:\n",
        "              eval = bound_value(float(f\"{match.group(2)}\"))\n",
        "              check_in = 0\n",
        "            else:\n",
        "              eval = 0\n",
        "              if float(match.group(2)) > 0 and float(match.group(2)) <= bound:\n",
        "                check_in = (bound + 10) - float(match.group(2))\n",
        "              elif float(match.group(2)) < 0 and float(match.group(2)) >= -bound:\n",
        "                check_in = (-bound + 10) + float(match.group(2))\n",
        "              else:\n",
        "                check_in = 0\n",
        "              eval = check_in\n",
        "\n",
        "          whitePlays = board.turn\n",
        "          board.push(node.move)\n",
        "          if board.is_checkmate():\n",
        "            eval += (50 * (-1 if whitePlays else 1))\n",
        "          row_data.append(eval)\n",
        "          rows_data.append(row_data)\n",
        "          # move next\n",
        "      i+=1\n",
        "      if i % 1_000 == 0:\n",
        "        print(i)\n",
        "      if i >= 15_000:\n",
        "        break\n",
        "\n",
        "df = pd.DataFrame(rows_data, columns=columns)"
      ],
      "metadata": {
        "id": "Max7tUsGQu7r"
      },
      "execution_count": null,
      "outputs": []
    },
    {
      "cell_type": "code",
      "source": [
        "df"
      ],
      "metadata": {
        "id": "UEpTvGB0fRcy"
      },
      "execution_count": null,
      "outputs": []
    },
    {
      "cell_type": "code",
      "source": [
        "value_ranges = df.describe().loc[['min', 'max']]\n",
        "print(\"Value Ranges:\")\n",
        "print(value_ranges)"
      ],
      "metadata": {
        "id": "abXXTR9Xom5l"
      },
      "execution_count": null,
      "outputs": []
    },
    {
      "cell_type": "code",
      "source": [
        "df.dtypes"
      ],
      "metadata": {
        "id": "2mKVAOuZfux7"
      },
      "execution_count": null,
      "outputs": []
    },
    {
      "cell_type": "markdown",
      "source": [
        "# Define Model"
      ],
      "metadata": {
        "id": "AGy27dDpxsit"
      }
    },
    {
      "cell_type": "code",
      "source": [
        "import torch\n",
        "import torch.nn as nn\n",
        "import torch.optim as optim\n",
        "import pandas as pd\n",
        "from sklearn.model_selection import train_test_split\n",
        "from sklearn.preprocessing import StandardScaler\n",
        "\n",
        "class Net(nn.Module):\n",
        "    def __init__(self, input_dim):\n",
        "        super(Net, self).__init__()\n",
        "        self.fc1 = nn.Linear(input_dim, 1024)\n",
        "        self.fc2 = nn.Linear(1024, 512)\n",
        "        self.fc2z = nn.Linear(512, 512)\n",
        "        self.fc2a = nn.Linear(512, 256)\n",
        "        self.fc2b = nn.Linear(256, 128)\n",
        "        self.fc3_eval = nn.Linear(128, 1)  # Output for 'eval'\n",
        "\n",
        "    def forward(self, x):\n",
        "        x = torch.relu(self.fc1(x))\n",
        "        x = torch.relu(self.fc2(x))\n",
        "        x = torch.relu(self.fc2z(x))\n",
        "        x = torch.relu(self.fc2a(x))\n",
        "        x = torch.relu(self.fc2b(x))\n",
        "        eval_output = self.fc3_eval(x)\n",
        "        return eval_output\n"
      ],
      "metadata": {
        "id": "k8piLWU9nrSx"
      },
      "execution_count": null,
      "outputs": []
    },
    {
      "cell_type": "code",
      "source": [
        "import gc\n",
        "gc.collect()\n",
        "torch.cuda.empty_cache()"
      ],
      "metadata": {
        "id": "O5nAcPWjwlxC"
      },
      "execution_count": null,
      "outputs": []
    },
    {
      "cell_type": "markdown",
      "source": [
        "# Prepare Train & Test Data"
      ],
      "metadata": {
        "id": "jnJlzl40Wodt"
      }
    },
    {
      "cell_type": "code",
      "source": [
        "# Check if GPU is available\n",
        "device = torch.device(\"cuda\" if torch.cuda.is_available() else \"cpu\")\n",
        "\n",
        "sampled_df = df.sample(n=1_000_000)\n",
        "\n",
        "# Prepare the data\n",
        "X = sampled_df.drop(columns=['eval']).values\n",
        "y = sampled_df[['eval']].values\n",
        "\n",
        "# Split the data into train and test sets\n",
        "X_train, X_test, y_train, y_test = train_test_split(X, y, test_size=0.2, random_state=42)\n",
        "\n",
        "# Normalize the data\n",
        "scaler = StandardScaler()\n",
        "X_train = scaler.fit_transform(X_train)\n",
        "X_test = scaler.transform(X_test)\n",
        "\n",
        "# Convert data to PyTorch tensors and move to GPU if available\n",
        "X_train_tensor = torch.tensor(X_train, dtype=torch.float32).to(device)\n",
        "y_train_tensor = torch.tensor(y_train, dtype=torch.float32).to(device)\n",
        "X_test_tensor = torch.tensor(X_test, dtype=torch.float32).to(device)\n",
        "y_test_tensor = torch.tensor(y_test, dtype=torch.float32).to(device)\n",
        "\n",
        "# Define the model and move it to GPU if available\n",
        "input_dim = X_train.shape[1]\n",
        "model = Net(input_dim).to(device)\n",
        "\n",
        "# Define loss function and optimizer\n",
        "criterion = nn.MSELoss()\n",
        "optimizer = optim.Adam(model.parameters(), lr=0.001)\n"
      ],
      "metadata": {
        "id": "mn1lRCgexv3m"
      },
      "execution_count": null,
      "outputs": []
    },
    {
      "cell_type": "markdown",
      "source": [
        "# Train Model"
      ],
      "metadata": {
        "id": "3vFPD-d3WuYV"
      }
    },
    {
      "cell_type": "code",
      "source": [
        "# Train the model\n",
        "epochs = 200\n",
        "for epoch in range(epochs):\n",
        "    model.train()\n",
        "    optimizer.zero_grad()\n",
        "    eval_output = model(X_train_tensor)\n",
        "\n",
        "    # Compute the loss for 'eval' output\n",
        "    eval_loss = criterion(eval_output, y_train_tensor[:, 0].view(-1, 1))  # Assuming 'eval' is the first column\n",
        "    loss = eval_loss\n",
        "\n",
        "    loss.backward()\n",
        "    optimizer.step()\n",
        "\n",
        "    if epoch % 10 == 0:\n",
        "        print(f'Epoch {epoch+1}/{epochs}, Loss: {loss.item()}')\n",
        "\n",
        "# Evaluate the model\n",
        "model.eval()\n",
        "with torch.no_grad():\n",
        "    eval_output = model(X_test_tensor)\n",
        "\n",
        "    # Compute the loss for 'eval' output\n",
        "    eval_loss = criterion(eval_output, y_test_tensor[:, 0].view(-1, 1))  # Assuming 'eval' is the first column\n",
        "    test_loss = eval_loss\n",
        "\n",
        "    print(f'Test Loss: {test_loss.item()}')"
      ],
      "metadata": {
        "id": "foXsyWZuWQx1"
      },
      "execution_count": null,
      "outputs": []
    },
    {
      "cell_type": "markdown",
      "source": [
        "# Play Chess with Model"
      ],
      "metadata": {
        "id": "flPvqRBi2Awq"
      }
    },
    {
      "cell_type": "code",
      "source": [
        "def generate_pgn(board, moves):\n",
        "    game = chess.pgn.Game()\n",
        "\n",
        "    node = game\n",
        "    for move in moves:\n",
        "        node = node.add_variation(move)\n",
        "\n",
        "    game.headers[\"Result\"] = board.result()\n",
        "    return str(game)"
      ],
      "metadata": {
        "id": "OwA1eb3jiZp7"
      },
      "execution_count": null,
      "outputs": []
    },
    {
      "cell_type": "code",
      "source": [
        "import chess\n",
        "import chess.svg\n",
        "import torch\n",
        "import torch.nn as nn\n",
        "from IPython.display import SVG, display\n",
        "\n",
        "# Check if GPU is available\n",
        "device = torch.device(\"cuda\" if torch.cuda.is_available() else \"cpu\")\n",
        "\n",
        "# Define a function to convert the board state into a format suitable for input to the neural network\n",
        "def preprocess_board_state(board):\n",
        "    board_state = [(((board.piece_at(square).piece_type * (1 if board.piece_at(square).color else -1))) if board.piece_at(square) is not None else 0) for square in chess.SQUARES]\n",
        "    return torch.tensor(board_state, dtype=torch.float32).to(device)\n",
        "\n",
        "# Define a function to generate legal moves for the current player\n",
        "def generate_legal_moves(board):\n",
        "    legal_moves = []\n",
        "    for move in board.legal_moves:\n",
        "        legal_moves.append(move)\n",
        "    return legal_moves\n",
        "\n",
        "def minimax():\n",
        "  return None\n",
        "\n",
        "# Evaluate each legal move using the neural network model and select the move with the highest evaluation\n",
        "def select_best_move(board, legal_moves, model):\n",
        "    whitePlays = board.turn\n",
        "    best_move = None\n",
        "    best_eval = float('-inf') if board.turn else float('inf')  # Initialize best evaluation based on player's perspective\n",
        "\n",
        "    for move in legal_moves:\n",
        "        board.push(move)\n",
        "        board_state = preprocess_board_state(board)\n",
        "        eval_output = model(board_state)\n",
        "\n",
        "        # Assuming 'eval_output' contains the evaluation for the current player's perspective\n",
        "        eval_value = eval_output.item()\n",
        "\n",
        "        if whitePlays:  # Maximizing player\n",
        "            if eval_value > best_eval:\n",
        "                best_eval = eval_value\n",
        "                best_move = move\n",
        "        else:  # Minimizing player\n",
        "            if eval_value < best_eval:\n",
        "                best_eval = eval_value\n",
        "                best_move = move\n",
        "\n",
        "        board.pop()\n",
        "    print(f\"EVAL: {best_eval}: {best_move}\")\n",
        "    return best_move\n",
        "def minimax(board, legal_moves, model, depth, max_depth, alpha, beta, maximizing_player):\n",
        "    if depth == max_depth or board.is_game_over():\n",
        "        return select_best_move(board, legal_moves, model)\n",
        "\n",
        "    if maximizing_player:\n",
        "        max_eval = float('-inf')\n",
        "        for move in legal_moves:\n",
        "            board.push(move)\n",
        "            eval_output = model(preprocess_board_state(board))\n",
        "            eval_value = eval_output.item()\n",
        "            max_eval = max(max_eval, minimax(board, generate_legal_moves(board), model, depth + 1, max_depth, alpha, beta, False))\n",
        "            alpha = max(alpha, max_eval)\n",
        "            board.pop()\n",
        "            if beta <= alpha:\n",
        "                break\n",
        "        return max_eval\n",
        "    else:\n",
        "        min_eval = float('inf')\n",
        "        for move in legal_moves:\n",
        "            board.push(move)\n",
        "            eval_output = model(preprocess_board_state(board))\n",
        "            eval_value = eval_output.item()\n",
        "            min_eval = min(min_eval, minimax(board, generate_legal_moves(board), model, depth + 1, max_depth, alpha, beta, True))\n",
        "            beta = min(beta, min_eval)\n",
        "            board.pop()\n",
        "            if beta <= alpha:\n",
        "                break\n",
        "        return min_eval\n",
        "\n",
        "def play_game(model, max_depth):\n",
        "    board = chess.Board()\n",
        "    moves = []\n",
        "    while not board.is_game_over():\n",
        "        if board.is_checkmate() or board.is_stalemate() or board.is_insufficient_material() or board.is_seventyfive_moves():\n",
        "            print(\"Game Over\")\n",
        "            print(\"Result: \", board.result())\n",
        "            return\n",
        "\n",
        "        legal_moves = generate_legal_moves(board)\n",
        "        if len(legal_moves) == 0:\n",
        "            print(\"Game Over - No legal moves left\")\n",
        "            print(\"Result: \", board.result())\n",
        "            return\n",
        "\n",
        "        best_move = select_best_move(board, legal_moves, model)\n",
        "        board.push(best_move)\n",
        "        moves.append(best_move)\n",
        "        print(\"**************************************\", \"\\n\")\n",
        "        display(SVG(chess.svg.board(board,size=300)))\n",
        "\n",
        "    # Print the final result of the game\n",
        "    print(\"Game Over\")\n",
        "    print(\"Result: \", board.result())\n",
        "    print(generate_pgn(board, moves))  # Generate and print the PGN\n",
        "\n",
        "# Example usage:\n",
        "# Assuming 'model' is your trained neural network model\n",
        "play_game(model.to(device), max_depth=3)  # Move the model to GPU if available and set max depth to desired value\n",
        "\n"
      ],
      "metadata": {
        "id": "WkKCPgPNzMlU"
      },
      "execution_count": null,
      "outputs": []
    },
    {
      "cell_type": "code",
      "source": [],
      "metadata": {
        "id": "3gK6HecWgXcP"
      },
      "execution_count": null,
      "outputs": []
    }
  ]
}